{
 "cells": [
  {
   "cell_type": "markdown",
   "metadata": {},
   "source": [
    "# Group work - Classification"
   ]
  },
  {
   "cell_type": "markdown",
   "metadata": {},
   "source": [
    "In this assignment, we will focus on sports analytics. This data set is made available by http://www.baseball-reference.com. It contains data about professional baseball (MLB) games played in the 2016 season. There are 2,427 games in the data set. Each row represents a single game. The goal is to predict the attendance at a home team’s game. This is an important task because most franchises want to predict the number of attendees for a variety of reasons including profits."
   ]
  },
  {
   "cell_type": "markdown",
   "metadata": {},
   "source": [
    "## Description of Variables\n",
    "\n",
    "The description of variables are provided in \"Baseball - Data Dictionary.docx\""
   ]
  },
  {
   "cell_type": "markdown",
   "metadata": {},
   "source": [
    "## Goal\n",
    "\n",
    "Use the **baseball.csv** data set and build a model to predict **attendance_binary**."
   ]
  },
  {
   "cell_type": "markdown",
   "metadata": {},
   "source": [
    "## Submission:\n",
    "\n",
    "Please save and submit this Jupyter notebook file. The correctness of the code matters for your grade. **Readability and organization of your code is also important.** You may lose points for submitting unreadable/undecipherable code. Therefore, use markdown cells to create sections, and use comments where necessary.\n"
   ]
  },
  {
   "cell_type": "markdown",
   "metadata": {},
   "source": [
    "## Recommended roles for group members:\n",
    "\n",
    "**Section 1:** to be completed by both group members\n",
    "\n",
    "**Section 2:** to be completed by the first group member and checked by the second\n",
    "\n",
    "**Section 3:** to be completed by the second group member and checked by the first\n",
    "\n",
    "**Important notes:**\n",
    "- Both group members will get the same grade. Therefore, you should check the work of your group member. If they make a mistake, you will be responsible for that mistake too.\n",
    "- Both group members must put in their fair share of effort. Otherwise, those who don't contribute to the assignment will not receive any grade.\n"
   ]
  },
  {
   "cell_type": "markdown",
   "metadata": {},
   "source": [
    "# Section 1: (6 points in total)"
   ]
  },
  {
   "cell_type": "markdown",
   "metadata": {},
   "source": [
    "## Data Prep (5.5 points)"
   ]
  },
  {
   "cell_type": "code",
   "execution_count": 3,
   "metadata": {},
   "outputs": [],
   "source": [
    "import numpy as np\n",
    "import pandas as pd\n",
    "from sklearn.model_selection import train_test_split"
   ]
  },
  {
   "cell_type": "code",
   "execution_count": 2,
   "metadata": {},
   "outputs": [
    {
     "data": {
      "text/html": [
       "<div>\n",
       "<style scoped>\n",
       "    .dataframe tbody tr th:only-of-type {\n",
       "        vertical-align: middle;\n",
       "    }\n",
       "\n",
       "    .dataframe tbody tr th {\n",
       "        vertical-align: top;\n",
       "    }\n",
       "\n",
       "    .dataframe thead th {\n",
       "        text-align: right;\n",
       "    }\n",
       "</style>\n",
       "<table border=\"1\" class=\"dataframe\">\n",
       "  <thead>\n",
       "    <tr style=\"text-align: right;\">\n",
       "      <th></th>\n",
       "      <th>attendance_binary</th>\n",
       "      <th>previous_attendance</th>\n",
       "      <th>previous_away_team_errors</th>\n",
       "      <th>previous_away_team_hits</th>\n",
       "      <th>previous_away_team_runs</th>\n",
       "      <th>game_type</th>\n",
       "      <th>previous_game_type</th>\n",
       "      <th>previous_home_team_errors</th>\n",
       "      <th>previous_home_team_hits</th>\n",
       "      <th>previous_home_team_runs</th>\n",
       "      <th>game_day</th>\n",
       "      <th>previous_game_day</th>\n",
       "      <th>temperature</th>\n",
       "      <th>wind_speed</th>\n",
       "      <th>sky</th>\n",
       "      <th>previous_game_duration</th>\n",
       "      <th>previous_homewin</th>\n",
       "    </tr>\n",
       "  </thead>\n",
       "  <tbody>\n",
       "    <tr>\n",
       "      <th>0</th>\n",
       "      <td>0</td>\n",
       "      <td>43683</td>\n",
       "      <td>2</td>\n",
       "      <td>6</td>\n",
       "      <td>2</td>\n",
       "      <td>Night Game</td>\n",
       "      <td>Day Game</td>\n",
       "      <td>0</td>\n",
       "      <td>6</td>\n",
       "      <td>6</td>\n",
       "      <td>Wednesday</td>\n",
       "      <td>Monday</td>\n",
       "      <td>55</td>\n",
       "      <td>24</td>\n",
       "      <td>Overcast</td>\n",
       "      <td>2.933333</td>\n",
       "      <td>1</td>\n",
       "    </tr>\n",
       "    <tr>\n",
       "      <th>1</th>\n",
       "      <td>0</td>\n",
       "      <td>45785</td>\n",
       "      <td>0</td>\n",
       "      <td>7</td>\n",
       "      <td>2</td>\n",
       "      <td>Night Game</td>\n",
       "      <td>Day Game</td>\n",
       "      <td>0</td>\n",
       "      <td>10</td>\n",
       "      <td>3</td>\n",
       "      <td>Wednesday</td>\n",
       "      <td>Monday</td>\n",
       "      <td>48</td>\n",
       "      <td>7</td>\n",
       "      <td>Unknown</td>\n",
       "      <td>2.800000</td>\n",
       "      <td>1</td>\n",
       "    </tr>\n",
       "    <tr>\n",
       "      <th>2</th>\n",
       "      <td>0</td>\n",
       "      <td>48282</td>\n",
       "      <td>0</td>\n",
       "      <td>8</td>\n",
       "      <td>4</td>\n",
       "      <td>Night Game</td>\n",
       "      <td>Day Game</td>\n",
       "      <td>2</td>\n",
       "      <td>4</td>\n",
       "      <td>3</td>\n",
       "      <td>Wednesday</td>\n",
       "      <td>Monday</td>\n",
       "      <td>65</td>\n",
       "      <td>10</td>\n",
       "      <td>Cloudy</td>\n",
       "      <td>3.383333</td>\n",
       "      <td>0</td>\n",
       "    </tr>\n",
       "    <tr>\n",
       "      <th>3</th>\n",
       "      <td>0</td>\n",
       "      <td>21830</td>\n",
       "      <td>0</td>\n",
       "      <td>9</td>\n",
       "      <td>6</td>\n",
       "      <td>Day Game</td>\n",
       "      <td>Night Game</td>\n",
       "      <td>0</td>\n",
       "      <td>15</td>\n",
       "      <td>11</td>\n",
       "      <td>Wednesday</td>\n",
       "      <td>Tuesday</td>\n",
       "      <td>77</td>\n",
       "      <td>0</td>\n",
       "      <td>In Dome</td>\n",
       "      <td>3.233333</td>\n",
       "      <td>1</td>\n",
       "    </tr>\n",
       "    <tr>\n",
       "      <th>4</th>\n",
       "      <td>0</td>\n",
       "      <td>49289</td>\n",
       "      <td>2</td>\n",
       "      <td>4</td>\n",
       "      <td>2</td>\n",
       "      <td>Night Game</td>\n",
       "      <td>Day Game</td>\n",
       "      <td>1</td>\n",
       "      <td>1</td>\n",
       "      <td>3</td>\n",
       "      <td>Tuesday</td>\n",
       "      <td>Monday</td>\n",
       "      <td>81</td>\n",
       "      <td>12</td>\n",
       "      <td>Cloudy</td>\n",
       "      <td>2.633333</td>\n",
       "      <td>1</td>\n",
       "    </tr>\n",
       "  </tbody>\n",
       "</table>\n",
       "</div>"
      ],
      "text/plain": [
       "   attendance_binary  previous_attendance  previous_away_team_errors  \\\n",
       "0                  0                43683                          2   \n",
       "1                  0                45785                          0   \n",
       "2                  0                48282                          0   \n",
       "3                  0                21830                          0   \n",
       "4                  0                49289                          2   \n",
       "\n",
       "   previous_away_team_hits  previous_away_team_runs   game_type  \\\n",
       "0                        6                        2  Night Game   \n",
       "1                        7                        2  Night Game   \n",
       "2                        8                        4  Night Game   \n",
       "3                        9                        6    Day Game   \n",
       "4                        4                        2  Night Game   \n",
       "\n",
       "  previous_game_type  previous_home_team_errors  previous_home_team_hits  \\\n",
       "0           Day Game                          0                        6   \n",
       "1           Day Game                          0                       10   \n",
       "2           Day Game                          2                        4   \n",
       "3         Night Game                          0                       15   \n",
       "4           Day Game                          1                        1   \n",
       "\n",
       "   previous_home_team_runs   game_day previous_game_day  temperature  \\\n",
       "0                        6  Wednesday            Monday           55   \n",
       "1                        3  Wednesday            Monday           48   \n",
       "2                        3  Wednesday            Monday           65   \n",
       "3                       11  Wednesday           Tuesday           77   \n",
       "4                        3    Tuesday            Monday           81   \n",
       "\n",
       "   wind_speed       sky  previous_game_duration  previous_homewin  \n",
       "0          24  Overcast                2.933333                 1  \n",
       "1           7   Unknown                2.800000                 1  \n",
       "2          10    Cloudy                3.383333                 0  \n",
       "3           0   In Dome                3.233333                 1  \n",
       "4          12    Cloudy                2.633333                 1  "
      ]
     },
     "execution_count": 2,
     "metadata": {},
     "output_type": "execute_result"
    }
   ],
   "source": [
    "data_frame = pd.read_csv('baseball.csv')\n",
    "data_frame.head()"
   ]
  },
  {
   "cell_type": "code",
   "execution_count": 4,
   "metadata": {},
   "outputs": [
    {
     "data": {
      "text/html": [
       "<div>\n",
       "<style scoped>\n",
       "    .dataframe tbody tr th:only-of-type {\n",
       "        vertical-align: middle;\n",
       "    }\n",
       "\n",
       "    .dataframe tbody tr th {\n",
       "        vertical-align: top;\n",
       "    }\n",
       "\n",
       "    .dataframe thead th {\n",
       "        text-align: right;\n",
       "    }\n",
       "</style>\n",
       "<table border=\"1\" class=\"dataframe\">\n",
       "  <thead>\n",
       "    <tr style=\"text-align: right;\">\n",
       "      <th></th>\n",
       "      <th>attendance_binary</th>\n",
       "      <th>previous_attendance</th>\n",
       "      <th>previous_away_team_errors</th>\n",
       "      <th>previous_away_team_hits</th>\n",
       "      <th>previous_away_team_runs</th>\n",
       "      <th>game_type</th>\n",
       "      <th>previous_game_type</th>\n",
       "      <th>previous_home_team_errors</th>\n",
       "      <th>previous_home_team_hits</th>\n",
       "      <th>previous_home_team_runs</th>\n",
       "      <th>game_day</th>\n",
       "      <th>previous_game_day</th>\n",
       "      <th>temperature</th>\n",
       "      <th>wind_speed</th>\n",
       "      <th>sky</th>\n",
       "      <th>previous_game_duration</th>\n",
       "      <th>previous_homewin</th>\n",
       "    </tr>\n",
       "  </thead>\n",
       "  <tbody>\n",
       "    <tr>\n",
       "      <th>234</th>\n",
       "      <td>1</td>\n",
       "      <td>41423</td>\n",
       "      <td>0</td>\n",
       "      <td>13</td>\n",
       "      <td>9</td>\n",
       "      <td>Night Game</td>\n",
       "      <td>Night Game</td>\n",
       "      <td>1</td>\n",
       "      <td>8</td>\n",
       "      <td>6</td>\n",
       "      <td>Friday</td>\n",
       "      <td>Sunday</td>\n",
       "      <td>83</td>\n",
       "      <td>4</td>\n",
       "      <td>Unknown</td>\n",
       "      <td>3.816667</td>\n",
       "      <td>0</td>\n",
       "    </tr>\n",
       "    <tr>\n",
       "      <th>1702</th>\n",
       "      <td>0</td>\n",
       "      <td>19283</td>\n",
       "      <td>0</td>\n",
       "      <td>5</td>\n",
       "      <td>4</td>\n",
       "      <td>Night Game</td>\n",
       "      <td>Night Game</td>\n",
       "      <td>1</td>\n",
       "      <td>6</td>\n",
       "      <td>5</td>\n",
       "      <td>Wednesday</td>\n",
       "      <td>Tuesday</td>\n",
       "      <td>66</td>\n",
       "      <td>0</td>\n",
       "      <td>In Dome</td>\n",
       "      <td>2.466667</td>\n",
       "      <td>1</td>\n",
       "    </tr>\n",
       "    <tr>\n",
       "      <th>38</th>\n",
       "      <td>0</td>\n",
       "      <td>17597</td>\n",
       "      <td>1</td>\n",
       "      <td>9</td>\n",
       "      <td>6</td>\n",
       "      <td>Night Game</td>\n",
       "      <td>Day Game</td>\n",
       "      <td>2</td>\n",
       "      <td>8</td>\n",
       "      <td>5</td>\n",
       "      <td>Monday</td>\n",
       "      <td>Tuesday</td>\n",
       "      <td>50</td>\n",
       "      <td>10</td>\n",
       "      <td>Overcast</td>\n",
       "      <td>3.383333</td>\n",
       "      <td>0</td>\n",
       "    </tr>\n",
       "    <tr>\n",
       "      <th>2026</th>\n",
       "      <td>1</td>\n",
       "      <td>39128</td>\n",
       "      <td>1</td>\n",
       "      <td>9</td>\n",
       "      <td>7</td>\n",
       "      <td>Night Game</td>\n",
       "      <td>Night Game</td>\n",
       "      <td>0</td>\n",
       "      <td>13</td>\n",
       "      <td>10</td>\n",
       "      <td>Wednesday</td>\n",
       "      <td>Tuesday</td>\n",
       "      <td>70</td>\n",
       "      <td>14</td>\n",
       "      <td>Cloudy</td>\n",
       "      <td>3.116667</td>\n",
       "      <td>1</td>\n",
       "    </tr>\n",
       "    <tr>\n",
       "      <th>287</th>\n",
       "      <td>0</td>\n",
       "      <td>24790</td>\n",
       "      <td>0</td>\n",
       "      <td>6</td>\n",
       "      <td>0</td>\n",
       "      <td>Night Game</td>\n",
       "      <td>Day Game</td>\n",
       "      <td>0</td>\n",
       "      <td>14</td>\n",
       "      <td>7</td>\n",
       "      <td>Friday</td>\n",
       "      <td>Wednesday</td>\n",
       "      <td>82</td>\n",
       "      <td>4</td>\n",
       "      <td>Sunny</td>\n",
       "      <td>2.916667</td>\n",
       "      <td>1</td>\n",
       "    </tr>\n",
       "  </tbody>\n",
       "</table>\n",
       "</div>"
      ],
      "text/plain": [
       "      attendance_binary  previous_attendance  previous_away_team_errors  \\\n",
       "234                   1                41423                          0   \n",
       "1702                  0                19283                          0   \n",
       "38                    0                17597                          1   \n",
       "2026                  1                39128                          1   \n",
       "287                   0                24790                          0   \n",
       "\n",
       "      previous_away_team_hits  previous_away_team_runs   game_type  \\\n",
       "234                        13                        9  Night Game   \n",
       "1702                        5                        4  Night Game   \n",
       "38                          9                        6  Night Game   \n",
       "2026                        9                        7  Night Game   \n",
       "287                         6                        0  Night Game   \n",
       "\n",
       "     previous_game_type  previous_home_team_errors  previous_home_team_hits  \\\n",
       "234          Night Game                          1                        8   \n",
       "1702         Night Game                          1                        6   \n",
       "38             Day Game                          2                        8   \n",
       "2026         Night Game                          0                       13   \n",
       "287            Day Game                          0                       14   \n",
       "\n",
       "      previous_home_team_runs   game_day previous_game_day  temperature  \\\n",
       "234                         6     Friday            Sunday           83   \n",
       "1702                        5  Wednesday           Tuesday           66   \n",
       "38                          5     Monday           Tuesday           50   \n",
       "2026                       10  Wednesday           Tuesday           70   \n",
       "287                         7     Friday         Wednesday           82   \n",
       "\n",
       "      wind_speed       sky  previous_game_duration  previous_homewin  \n",
       "234            4   Unknown                3.816667                 0  \n",
       "1702           0   In Dome                2.466667                 1  \n",
       "38            10  Overcast                3.383333                 0  \n",
       "2026          14    Cloudy                3.116667                 1  \n",
       "287            4     Sunny                2.916667                 1  "
      ]
     },
     "execution_count": 4,
     "metadata": {},
     "output_type": "execute_result"
    }
   ],
   "source": [
    "train_set, test_set = train_test_split(data_frame, test_size=0.3)\n",
    "train_set.head()"
   ]
  },
  {
   "cell_type": "code",
   "execution_count": 5,
   "metadata": {},
   "outputs": [
    {
     "data": {
      "text/html": [
       "<div>\n",
       "<style scoped>\n",
       "    .dataframe tbody tr th:only-of-type {\n",
       "        vertical-align: middle;\n",
       "    }\n",
       "\n",
       "    .dataframe tbody tr th {\n",
       "        vertical-align: top;\n",
       "    }\n",
       "\n",
       "    .dataframe thead th {\n",
       "        text-align: right;\n",
       "    }\n",
       "</style>\n",
       "<table border=\"1\" class=\"dataframe\">\n",
       "  <thead>\n",
       "    <tr style=\"text-align: right;\">\n",
       "      <th></th>\n",
       "      <th>attendance_binary</th>\n",
       "      <th>previous_attendance</th>\n",
       "      <th>previous_away_team_errors</th>\n",
       "      <th>previous_away_team_hits</th>\n",
       "      <th>previous_away_team_runs</th>\n",
       "      <th>game_type</th>\n",
       "      <th>previous_game_type</th>\n",
       "      <th>previous_home_team_errors</th>\n",
       "      <th>previous_home_team_hits</th>\n",
       "      <th>previous_home_team_runs</th>\n",
       "      <th>game_day</th>\n",
       "      <th>previous_game_day</th>\n",
       "      <th>temperature</th>\n",
       "      <th>wind_speed</th>\n",
       "      <th>sky</th>\n",
       "      <th>previous_game_duration</th>\n",
       "      <th>previous_homewin</th>\n",
       "    </tr>\n",
       "  </thead>\n",
       "  <tbody>\n",
       "    <tr>\n",
       "      <th>672</th>\n",
       "      <td>0</td>\n",
       "      <td>14615</td>\n",
       "      <td>2</td>\n",
       "      <td>15</td>\n",
       "      <td>10</td>\n",
       "      <td>Night Game</td>\n",
       "      <td>Night Game</td>\n",
       "      <td>1</td>\n",
       "      <td>12</td>\n",
       "      <td>7</td>\n",
       "      <td>Wednesday</td>\n",
       "      <td>Tuesday</td>\n",
       "      <td>65</td>\n",
       "      <td>1</td>\n",
       "      <td>Unknown</td>\n",
       "      <td>3.733333</td>\n",
       "      <td>0</td>\n",
       "    </tr>\n",
       "    <tr>\n",
       "      <th>587</th>\n",
       "      <td>1</td>\n",
       "      <td>38338</td>\n",
       "      <td>0</td>\n",
       "      <td>7</td>\n",
       "      <td>6</td>\n",
       "      <td>Day Game</td>\n",
       "      <td>Night Game</td>\n",
       "      <td>0</td>\n",
       "      <td>9</td>\n",
       "      <td>2</td>\n",
       "      <td>Wednesday</td>\n",
       "      <td>Tuesday</td>\n",
       "      <td>64</td>\n",
       "      <td>10</td>\n",
       "      <td>Unknown</td>\n",
       "      <td>3.166667</td>\n",
       "      <td>0</td>\n",
       "    </tr>\n",
       "    <tr>\n",
       "      <th>716</th>\n",
       "      <td>0</td>\n",
       "      <td>20357</td>\n",
       "      <td>0</td>\n",
       "      <td>15</td>\n",
       "      <td>10</td>\n",
       "      <td>Day Game</td>\n",
       "      <td>Night Game</td>\n",
       "      <td>1</td>\n",
       "      <td>9</td>\n",
       "      <td>3</td>\n",
       "      <td>Sunday</td>\n",
       "      <td>Saturday</td>\n",
       "      <td>61</td>\n",
       "      <td>2</td>\n",
       "      <td>Cloudy</td>\n",
       "      <td>2.900000</td>\n",
       "      <td>0</td>\n",
       "    </tr>\n",
       "    <tr>\n",
       "      <th>2357</th>\n",
       "      <td>1</td>\n",
       "      <td>53279</td>\n",
       "      <td>0</td>\n",
       "      <td>9</td>\n",
       "      <td>4</td>\n",
       "      <td>Night Game</td>\n",
       "      <td>Day Game</td>\n",
       "      <td>1</td>\n",
       "      <td>9</td>\n",
       "      <td>2</td>\n",
       "      <td>Wednesday</td>\n",
       "      <td>Tuesday</td>\n",
       "      <td>65</td>\n",
       "      <td>6</td>\n",
       "      <td>Sunny</td>\n",
       "      <td>3.000000</td>\n",
       "      <td>0</td>\n",
       "    </tr>\n",
       "    <tr>\n",
       "      <th>59</th>\n",
       "      <td>1</td>\n",
       "      <td>41358</td>\n",
       "      <td>0</td>\n",
       "      <td>8</td>\n",
       "      <td>4</td>\n",
       "      <td>Day Game</td>\n",
       "      <td>Night Game</td>\n",
       "      <td>1</td>\n",
       "      <td>9</td>\n",
       "      <td>6</td>\n",
       "      <td>Saturday</td>\n",
       "      <td>Friday</td>\n",
       "      <td>60</td>\n",
       "      <td>6</td>\n",
       "      <td>Overcast</td>\n",
       "      <td>2.666667</td>\n",
       "      <td>1</td>\n",
       "    </tr>\n",
       "  </tbody>\n",
       "</table>\n",
       "</div>"
      ],
      "text/plain": [
       "      attendance_binary  previous_attendance  previous_away_team_errors  \\\n",
       "672                   0                14615                          2   \n",
       "587                   1                38338                          0   \n",
       "716                   0                20357                          0   \n",
       "2357                  1                53279                          0   \n",
       "59                    1                41358                          0   \n",
       "\n",
       "      previous_away_team_hits  previous_away_team_runs   game_type  \\\n",
       "672                        15                       10  Night Game   \n",
       "587                         7                        6    Day Game   \n",
       "716                        15                       10    Day Game   \n",
       "2357                        9                        4  Night Game   \n",
       "59                          8                        4    Day Game   \n",
       "\n",
       "     previous_game_type  previous_home_team_errors  previous_home_team_hits  \\\n",
       "672          Night Game                          1                       12   \n",
       "587          Night Game                          0                        9   \n",
       "716          Night Game                          1                        9   \n",
       "2357           Day Game                          1                        9   \n",
       "59           Night Game                          1                        9   \n",
       "\n",
       "      previous_home_team_runs   game_day previous_game_day  temperature  \\\n",
       "672                         7  Wednesday           Tuesday           65   \n",
       "587                         2  Wednesday           Tuesday           64   \n",
       "716                         3     Sunday          Saturday           61   \n",
       "2357                        2  Wednesday           Tuesday           65   \n",
       "59                          6   Saturday            Friday           60   \n",
       "\n",
       "      wind_speed       sky  previous_game_duration  previous_homewin  \n",
       "672            1   Unknown                3.733333                 0  \n",
       "587           10   Unknown                3.166667                 0  \n",
       "716            2    Cloudy                2.900000                 0  \n",
       "2357           6     Sunny                3.000000                 0  \n",
       "59             6  Overcast                2.666667                 1  "
      ]
     },
     "execution_count": 5,
     "metadata": {},
     "output_type": "execute_result"
    }
   ],
   "source": [
    "test_set.head()"
   ]
  },
  {
   "cell_type": "code",
   "execution_count": 6,
   "metadata": {},
   "outputs": [
    {
     "data": {
      "text/plain": [
       "attendance_binary              int64\n",
       "previous_attendance            int64\n",
       "previous_away_team_errors      int64\n",
       "previous_away_team_hits        int64\n",
       "previous_away_team_runs        int64\n",
       "game_type                     object\n",
       "previous_game_type            object\n",
       "previous_home_team_errors      int64\n",
       "previous_home_team_hits        int64\n",
       "previous_home_team_runs        int64\n",
       "game_day                      object\n",
       "previous_game_day             object\n",
       "temperature                    int64\n",
       "wind_speed                     int64\n",
       "sky                           object\n",
       "previous_game_duration       float64\n",
       "previous_homewin               int64\n",
       "dtype: object"
      ]
     },
     "execution_count": 6,
     "metadata": {},
     "output_type": "execute_result"
    }
   ],
   "source": [
    "## Checking Null values counts per column\n",
    "train_set.dtypes"
   ]
  },
  {
   "cell_type": "code",
   "execution_count": 7,
   "metadata": {},
   "outputs": [
    {
     "name": "stdout",
     "output_type": "stream",
     "text": [
      "int64\n",
      "int64\n",
      "int64\n",
      "int64\n",
      "int64\n",
      "object\n",
      "object\n",
      "int64\n",
      "int64\n",
      "int64\n",
      "object\n",
      "object\n",
      "int64\n",
      "int64\n",
      "object\n",
      "float64\n",
      "int64\n"
     ]
    }
   ],
   "source": [
    "for item in train_set.dtypes:\n",
    "    print(item)"
   ]
  },
  {
   "cell_type": "markdown",
   "metadata": {},
   "source": [
    "## Find the Baseline (0.5 point)"
   ]
  },
  {
   "cell_type": "code",
   "execution_count": null,
   "metadata": {},
   "outputs": [],
   "source": []
  },
  {
   "cell_type": "code",
   "execution_count": null,
   "metadata": {},
   "outputs": [],
   "source": []
  },
  {
   "cell_type": "markdown",
   "metadata": {},
   "source": [
    "# Section 2: (3 points in total)\n",
    "\n",
    "Build three different SVM models (by changing the kernels, regularization, etc.). Generate their training and test values. Each model is worth 1 point. \n",
    "\n",
    "(Add cells as needed)"
   ]
  },
  {
   "cell_type": "markdown",
   "metadata": {},
   "source": [
    "## SVM Model 1:"
   ]
  },
  {
   "cell_type": "code",
   "execution_count": null,
   "metadata": {},
   "outputs": [],
   "source": []
  },
  {
   "cell_type": "code",
   "execution_count": null,
   "metadata": {},
   "outputs": [],
   "source": []
  },
  {
   "cell_type": "markdown",
   "metadata": {},
   "source": [
    "## SVM Model 2:"
   ]
  },
  {
   "cell_type": "code",
   "execution_count": null,
   "metadata": {},
   "outputs": [],
   "source": []
  },
  {
   "cell_type": "code",
   "execution_count": null,
   "metadata": {},
   "outputs": [],
   "source": []
  },
  {
   "cell_type": "markdown",
   "metadata": {},
   "source": [
    "## SVM Model 3:"
   ]
  },
  {
   "cell_type": "code",
   "execution_count": null,
   "metadata": {},
   "outputs": [],
   "source": []
  },
  {
   "cell_type": "code",
   "execution_count": null,
   "metadata": {},
   "outputs": [],
   "source": []
  },
  {
   "cell_type": "markdown",
   "metadata": {},
   "source": [
    "# Section 3: (3 points in total)\n",
    "\n",
    "Build two different SGD models (by changing the penalty, etc. or adding polynomial terms) and one LogisticRregression model. Generate their training and test values. Each model is worth 1 point.\n",
    "\n",
    "(Add cells as needed)"
   ]
  },
  {
   "cell_type": "markdown",
   "metadata": {},
   "source": [
    "## SGD Model 1:"
   ]
  },
  {
   "cell_type": "code",
   "execution_count": null,
   "metadata": {},
   "outputs": [],
   "source": []
  },
  {
   "cell_type": "code",
   "execution_count": null,
   "metadata": {},
   "outputs": [],
   "source": []
  },
  {
   "cell_type": "markdown",
   "metadata": {},
   "source": [
    "## SGD Model 2:"
   ]
  },
  {
   "cell_type": "code",
   "execution_count": null,
   "metadata": {},
   "outputs": [],
   "source": []
  },
  {
   "cell_type": "code",
   "execution_count": null,
   "metadata": {},
   "outputs": [],
   "source": []
  },
  {
   "cell_type": "markdown",
   "metadata": {},
   "source": [
    "## LogisticRegression Model:"
   ]
  },
  {
   "cell_type": "code",
   "execution_count": null,
   "metadata": {},
   "outputs": [],
   "source": []
  },
  {
   "cell_type": "code",
   "execution_count": null,
   "metadata": {},
   "outputs": [],
   "source": []
  },
  {
   "cell_type": "markdown",
   "metadata": {},
   "source": [
    "# Discussion (3 points in total)\n"
   ]
  },
  {
   "cell_type": "markdown",
   "metadata": {},
   "source": [
    "## List the train and test values of each model you built (1 point)"
   ]
  },
  {
   "cell_type": "raw",
   "metadata": {},
   "source": []
  },
  {
   "cell_type": "markdown",
   "metadata": {},
   "source": [
    "## Which model performs the best and why? (0.5 points) How does it compare to baseline? (0.5 points)\n",
    "\n",
    "Hint: The best model is the one that has the highest TEST score (regardless of any of the training values). If you select your model based on TRAIN values, you will lose points."
   ]
  },
  {
   "cell_type": "raw",
   "metadata": {},
   "source": []
  },
  {
   "cell_type": "markdown",
   "metadata": {},
   "source": [
    "## Is there any evidence of overfitting in the best model, why or why not? If there is, what did you do about it? (0.5 points)"
   ]
  },
  {
   "cell_type": "raw",
   "metadata": {},
   "source": []
  },
  {
   "cell_type": "markdown",
   "metadata": {},
   "source": [
    "## Is there any evidence of overfitting in the other models (besides the best model), why or why not? If there is, what did you do about it? (0.5 points)"
   ]
  },
  {
   "cell_type": "raw",
   "metadata": {},
   "source": []
  }
 ],
 "metadata": {
  "kernelspec": {
   "display_name": "Python 3 (ipykernel)",
   "language": "python",
   "name": "python3"
  },
  "language_info": {
   "codemirror_mode": {
    "name": "ipython",
    "version": 3
   },
   "file_extension": ".py",
   "mimetype": "text/x-python",
   "name": "python",
   "nbconvert_exporter": "python",
   "pygments_lexer": "ipython3",
   "version": "3.9.5"
  },
  "toc": {
   "base_numbering": 1,
   "nav_menu": {},
   "number_sections": false,
   "sideBar": true,
   "skip_h1_title": false,
   "title_cell": "Table of Contents",
   "title_sidebar": "Contents",
   "toc_cell": false,
   "toc_position": {},
   "toc_section_display": true,
   "toc_window_display": false
  }
 },
 "nbformat": 4,
 "nbformat_minor": 2
}
